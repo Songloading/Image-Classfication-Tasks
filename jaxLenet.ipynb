{
  "nbformat": 4,
  "nbformat_minor": 0,
  "metadata": {
    "colab": {
      "name": "jaxLenet.ipynb",
      "provenance": [],
      "authorship_tag": "ABX9TyOBUWORj4RFec4wflRST2Qr",
      "include_colab_link": true
    },
    "kernelspec": {
      "name": "python3",
      "display_name": "Python 3"
    },
    "language_info": {
      "name": "python"
    }
  },
  "cells": [
    {
      "cell_type": "markdown",
      "metadata": {
        "id": "view-in-github",
        "colab_type": "text"
      },
      "source": [
        "<a href=\"https://colab.research.google.com/github/Songloading/Image-Classfication-Tasks/blob/main/jaxLenet.ipynb\" target=\"_parent\"><img src=\"https://colab.research.google.com/assets/colab-badge.svg\" alt=\"Open In Colab\"/></a>"
      ]
    },
    {
      "cell_type": "code",
      "metadata": {
        "id": "oxFndTvfWCWW",
        "colab": {
          "base_uri": "https://localhost:8080/",
          "height": 333
        },
        "outputId": "af1e074b-1cf9-4f2b-bf4e-1cf374f7aac1"
      },
      "source": [
        "import time\n",
        "import itertools\n",
        "\n",
        "import numpy.random as npr\n",
        "\n",
        "import jax.numpy as np\n",
        "from jax import jit, grad, random\n",
        "from jax.experimental import optimizers\n",
        "from jax.experimental import stax\n",
        "from jax.experimental.stax import Dense, Relu, LogSoftmax, Conv, MaxPool, Flatten\n",
        "# from examples import dataset"
      ],
      "execution_count": null,
      "outputs": [
        {
          "output_type": "error",
          "ename": "ImportError",
          "evalue": "ignored",
          "traceback": [
            "\u001b[0;31m---------------------------------------------------------------------------\u001b[0m",
            "\u001b[0;31mImportError\u001b[0m                               Traceback (most recent call last)",
            "\u001b[0;32m<ipython-input-1-8dae94caa7ad>\u001b[0m in \u001b[0;36m<module>\u001b[0;34m()\u001b[0m\n\u001b[1;32m      9\u001b[0m \u001b[0;32mfrom\u001b[0m \u001b[0mjax\u001b[0m\u001b[0;34m.\u001b[0m\u001b[0mexperimental\u001b[0m \u001b[0;32mimport\u001b[0m \u001b[0mstax\u001b[0m\u001b[0;34m\u001b[0m\u001b[0;34m\u001b[0m\u001b[0m\n\u001b[1;32m     10\u001b[0m \u001b[0;32mfrom\u001b[0m \u001b[0mjax\u001b[0m\u001b[0;34m.\u001b[0m\u001b[0mexperimental\u001b[0m\u001b[0;34m.\u001b[0m\u001b[0mstax\u001b[0m \u001b[0;32mimport\u001b[0m \u001b[0mDense\u001b[0m\u001b[0;34m,\u001b[0m \u001b[0mRelu\u001b[0m\u001b[0;34m,\u001b[0m \u001b[0mLogSoftmax\u001b[0m\u001b[0;34m,\u001b[0m \u001b[0mConv\u001b[0m\u001b[0;34m,\u001b[0m \u001b[0mMaxPool\u001b[0m\u001b[0;34m,\u001b[0m \u001b[0mFlatten\u001b[0m\u001b[0;34m\u001b[0m\u001b[0;34m\u001b[0m\u001b[0m\n\u001b[0;32m---> 11\u001b[0;31m \u001b[0;32mfrom\u001b[0m \u001b[0mexamples\u001b[0m \u001b[0;32mimport\u001b[0m \u001b[0mdataset\u001b[0m\u001b[0;34m\u001b[0m\u001b[0;34m\u001b[0m\u001b[0m\n\u001b[0m",
            "\u001b[0;31mImportError\u001b[0m: cannot import name 'dataset' from 'examples' (/usr/local/lib/python3.7/dist-packages/examples/__init__.py)",
            "",
            "\u001b[0;31m---------------------------------------------------------------------------\u001b[0;32m\nNOTE: If your import is failing due to a missing package, you can\nmanually install dependencies using either !pip or !apt.\n\nTo view examples of installing some common dependencies, click the\n\"Open Examples\" button below.\n\u001b[0;31m---------------------------------------------------------------------------\u001b[0m\n"
          ]
        }
      ]
    },
    {
      "cell_type": "code",
      "metadata": {
        "id": "m_-UkPpgKIKD"
      },
      "source": [
        "# some useful materials:\n",
        "# http://gcucurull.github.io/deep-learning/2020/04/20/jax-graph-neural-networks/\n",
        "# https://jax.readthedocs.io/en/latest/_modules/jax/experimental/stax.html\n",
        "# https://jax.readthedocs.io/en/latest/jax.experimental.stax.html"
      ],
      "execution_count": null,
      "outputs": []
    },
    {
      "cell_type": "code",
      "metadata": {
        "id": "ylDhNFH_WGxa"
      },
      "source": [
        "def loss(params, batch):\n",
        "    inputs, targets = batch\n",
        "    preds = predict(params, inputs)\n",
        "    return -np.mean(np.sum(preds * targets, axis=1))"
      ],
      "execution_count": null,
      "outputs": []
    },
    {
      "cell_type": "code",
      "metadata": {
        "id": "7HeAjngaWZKn"
      },
      "source": [
        "def accuracy(params, batch):\n",
        "    inputs, targets = batch\n",
        "    target_class = np.argmax(targets, axis=1)\n",
        "    predicted_class = np.argmax(predict(params, inputs), axis=1)\n",
        "    return np.mean(predicted_class == target_class)"
      ],
      "execution_count": null,
      "outputs": []
    },
    {
      "cell_type": "code",
      "metadata": {
        "id": "jitWTPqVWuUM"
      },
      "source": [
        "# init_fun: initializes the parameters of the layer.\n",
        "# apply_fun: forward computation function\n",
        "init_random_params, predict = stax.serial(\n",
        "    Conv(out_chan=6, filter_shape=(5, 5), strides=(1, 1), padding=\"VALID\"), Relu,\n",
        "    MaxPool(window_shape=(2, 2), padding=\"VALID\", spec=\"NCHW\"),\n",
        "    Conv(out_chan=16, filter_shape=(5, 5), strides=(1, 1), padding=\"VALID\"), Relu,\n",
        "    MaxPool(window_shape=(2, 2), padding=\"VALID\", spec=\"NCHW\"),\n",
        "    Flatten,\n",
        "    Dense(120), Relu,\n",
        "    Dense(84), Relu,\n",
        "    Dense(10), LogSoftmax)"
      ],
      "execution_count": null,
      "outputs": []
    },
    {
      "cell_type": "code",
      "metadata": {
        "id": "q-vMGBRTN1Ap"
      },
      "source": [
        ""
      ],
      "execution_count": null,
      "outputs": []
    }
  ]
}